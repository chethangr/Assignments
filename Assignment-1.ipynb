{
 "cells": [
  {
   "cell_type": "markdown",
   "id": "3f30c9cc",
   "metadata": {},
   "source": [
    "1. In the below elements which of them are values or an expression? eg:- values can be integer or string and expressions will be mathematical operators.\n",
    "* \n",
    "'hello'\n",
    "-87.8\n",
    "- \n",
    "/ \n",
    "+\t\n",
    "6 \n"
   ]
  },
  {
   "cell_type": "markdown",
   "id": "0c2b9aee",
   "metadata": {},
   "source": [
    "Values are : \n",
    "    'hello',\n",
    "    87.8,\n",
    "    6\n",
    "\n",
    "Expression:\n",
    "    /"
   ]
  },
  {
   "cell_type": "markdown",
   "id": "ed32fc7a",
   "metadata": {},
   "source": [
    "2. What is the difference between string and variable?"
   ]
  },
  {
   "cell_type": "markdown",
   "id": "c761dfdf",
   "metadata": {},
   "source": [
    "String is a data mentioned in double/single quotes and it will be assigned to a variable\n",
    "Variable is a identifier or location where a data will be stored"
   ]
  },
  {
   "cell_type": "markdown",
   "id": "ee429bed",
   "metadata": {},
   "source": [
    "3. Describe three different data types."
   ]
  },
  {
   "cell_type": "markdown",
   "id": "cbefefb2",
   "metadata": {},
   "source": [
    "Boolean - True/False;\n",
    "\n",
    "Numeric - complex, float, int; \n",
    "\n",
    "Text Type - str\n"
   ]
  },
  {
   "cell_type": "markdown",
   "id": "aba642d8",
   "metadata": {},
   "source": [
    "4. What is an expression made up of? What do all expressions do?"
   ]
  },
  {
   "cell_type": "markdown",
   "id": "2de49201",
   "metadata": {},
   "source": [
    "An expression is a construct made up of variables, operators, and method invocations, which evaluates to a single value.\n",
    "\n",
    "An expression will return some values based on the statements used."
   ]
  },
  {
   "cell_type": "markdown",
   "id": "89571ec4",
   "metadata": {},
   "source": [
    "5. This assignment statements, like spam = 10. What is the difference between an expression and a statement?"
   ]
  },
  {
   "cell_type": "markdown",
   "id": "2cc56aa8",
   "metadata": {},
   "source": [
    "Expression is a combination of variables, operators, and method which always returns a result\n",
    "Statement is an instruction which will be executed by the computer. Statement can be a part of expression"
   ]
  },
  {
   "cell_type": "markdown",
   "id": "1f147e53",
   "metadata": {},
   "source": [
    "6. After running the following code, what does the variable bacon contain?\n",
    "bacon = 22\n",
    "bacon + 1"
   ]
  },
  {
   "cell_type": "markdown",
   "id": "502f5eb6",
   "metadata": {},
   "source": [
    "Value of bacon will be 23"
   ]
  },
  {
   "cell_type": "markdown",
   "id": "9328f412",
   "metadata": {},
   "source": [
    "7. What should the values of the following two terms be?\n",
    "'spam' + 'spamspam'\n",
    "'spam' * 3\n"
   ]
  },
  {
   "cell_type": "markdown",
   "id": "a6cacba7",
   "metadata": {},
   "source": [
    "'spamspamspam'"
   ]
  },
  {
   "cell_type": "markdown",
   "id": "202a319a",
   "metadata": {},
   "source": [
    "8. Why is eggs a valid variable name while 100 is invalid?"
   ]
  },
  {
   "cell_type": "markdown",
   "id": "f3068e8e",
   "metadata": {},
   "source": [
    "egg is a valid variable as it's not a literal but 100 is a literal. Literals are nothing but data written in primitive data format and these can't be assigned with a value."
   ]
  },
  {
   "cell_type": "markdown",
   "id": "5473fc6f",
   "metadata": {},
   "source": [
    "9. What three functions can be used to get the integer, floating-point number, or string version of a value?"
   ]
  },
  {
   "cell_type": "markdown",
   "id": "9fbdfb51",
   "metadata": {},
   "source": [
    "int() -  to convert into an integer,\n",
    "\n",
    "str() -  to convert into a string,\n",
    "\n",
    "float() - to convert into a floating point"
   ]
  },
  {
   "cell_type": "markdown",
   "id": "df1ad115",
   "metadata": {},
   "source": [
    "10. Why does this expression cause an error? How can you fix it?\n",
    "'I have eaten ' + 99 + ' burritos.'"
   ]
  },
  {
   "cell_type": "markdown",
   "id": "f9b9b47b",
   "metadata": {},
   "source": [
    "As the concat operations works on strings and it doesn't work in this case as we are trying to concatinate an integer with the strings\n",
    "To fix the error modify the statement as follows\n",
    "'I have eaten ' + \"99\" + ' burritos.'"
   ]
  },
  {
   "cell_type": "code",
   "execution_count": null,
   "id": "0475f188",
   "metadata": {},
   "outputs": [],
   "source": []
  }
 ],
 "metadata": {
  "kernelspec": {
   "display_name": "Python 3 (ipykernel)",
   "language": "python",
   "name": "python3"
  },
  "language_info": {
   "codemirror_mode": {
    "name": "ipython",
    "version": 3
   },
   "file_extension": ".py",
   "mimetype": "text/x-python",
   "name": "python",
   "nbconvert_exporter": "python",
   "pygments_lexer": "ipython3",
   "version": "3.9.7"
  }
 },
 "nbformat": 4,
 "nbformat_minor": 5
}
