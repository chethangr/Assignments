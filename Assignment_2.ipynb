{
 "cells": [
  {
   "cell_type": "markdown",
   "id": "9a9a8273",
   "metadata": {},
   "source": [
    "### 1.What are the two values of the Boolean data type? How do you write them?"
   ]
  },
  {
   "cell_type": "markdown",
   "id": "aab4283c",
   "metadata": {},
   "source": [
    "The two values are True & False and are written as follows\n",
    "\n",
    "True\n",
    "\n",
    "False"
   ]
  },
  {
   "cell_type": "markdown",
   "id": "ee3ff60a",
   "metadata": {},
   "source": [
    "\n",
    "### 2. What are the three different types of Boolean operators?"
   ]
  },
  {
   "cell_type": "markdown",
   "id": "7a19627c",
   "metadata": {},
   "source": [
    "And, OR and Not"
   ]
  },
  {
   "cell_type": "markdown",
   "id": "2baa4b56",
   "metadata": {},
   "source": [
    "### 3. Make a list of each Boolean operator's truth tables (i.e. every possible combination of Boolean values for the operator and what it evaluate )."
   ]
  },
  {
   "cell_type": "markdown",
   "id": "8e966fdb",
   "metadata": {},
   "source": [
    "condition 1(e.g., X)\tcondition 2(e.g., Y)\tNOT X( ~ X )\tX AND Y( X && Y )\tX OR Y( X || Y )\n",
    "\n",
    "false\t                       false\t            true\t          false\t           false\n",
    "\n",
    "false\t                       true\t                true\t          false\t           true\n",
    "\n",
    "true\t                       false\t            false\t          false\t           true\n",
    "\n",
    "true\t                       true\t                false\t          true\t           true\n"
   ]
  },
  {
   "cell_type": "markdown",
   "id": "1019df10",
   "metadata": {},
   "source": [
    "### 4. What are the values of the following expressions?\n",
    "(5 > 4) and (3 == 5)\n",
    "not (5 > 4)\n",
    "(5 > 4) or (3 == 5)\n",
    "not ((5 > 4) or (3 == 5))\n",
    "(True and True) and (True == False)\n",
    "(not False) or (not True)"
   ]
  },
  {
   "cell_type": "markdown",
   "id": "e3b9d8d2",
   "metadata": {},
   "source": [
    "(5 > 4) and (3 == 5) will be False\n",
    "\n",
    "not (5 > 4) will be False\n",
    "\n",
    "(5 > 4) or (3 == 5) will be True\n",
    "\n",
    "not ((5 > 4) or (3 == 5)) will be False\n",
    "\n",
    "(True and True) and (True == False) will be False\n",
    "\n",
    "(not False) or (not True) will be True"
   ]
  },
  {
   "cell_type": "markdown",
   "id": "7856179b",
   "metadata": {},
   "source": [
    "### 5. What are the six comparison operators?"
   ]
  },
  {
   "cell_type": "markdown",
   "id": "e5e38c37",
   "metadata": {},
   "source": [
    "Less than (<) \n",
    "\n",
    "Greater than (>)\n",
    "\n",
    "Less than or equal to (<=) \n",
    "\n",
    "Greater than or equal to (>=)\n",
    "\n",
    "Equal to (==) \n",
    "\n",
    "Not equal to (!=)"
   ]
  },
  {
   "cell_type": "markdown",
   "id": "739daa87",
   "metadata": {},
   "source": [
    "### 6. How do you tell the difference between the equal to and assignment operators?Describe a condition and when you would use one."
   ]
  },
  {
   "cell_type": "markdown",
   "id": "7c4a1b64",
   "metadata": {},
   "source": [
    "Equal to is an operator which will check if the given 2 values are same or not.\n",
    "\n",
    "eg: \n",
    "    a = 3\n",
    "    \n",
    "    b = 4\n",
    "    \n",
    "    if a == b:\n",
    "    \n",
    "        return True\n",
    "        \n",
    "    else:\n",
    "    \n",
    "        return False\n",
    "\n",
    "Assignment operator is used to assign a value to a variable.\n",
    "\n",
    "eg:\n",
    "    a = 5"
   ]
  },
  {
   "cell_type": "markdown",
   "id": "919397ef",
   "metadata": {},
   "source": [
    "### 7. Identify the three blocks in this code:\n",
    "spam = 0\n",
    "if spam == 10:\n",
    "print('eggs')\n",
    "if spam > 5:\n",
    "print('bacon')\n",
    "else:\n",
    "print('ham')\n",
    "print('spam')\n",
    "print('spam')"
   ]
  },
  {
   "cell_type": "markdown",
   "id": "0f445dfc",
   "metadata": {},
   "source": [
    "Block 1 :\n",
    "    \n",
    "    if spam == 10:\n",
    "        print('eggs')\n",
    "        \n",
    "\n",
    "Block 2:\n",
    "    \n",
    "    if spam > 5:\n",
    "        print('bacon')\n",
    "        \n",
    "\n",
    "Block 3:\n",
    "    \n",
    "    else:\n",
    "        print('ham')\n",
    "        print('spam')\n",
    "        print('spam')"
   ]
  },
  {
   "cell_type": "markdown",
   "id": "d6a6c227",
   "metadata": {},
   "source": [
    "### 8. Write code that prints Hello if 1 is stored in spam, prints Howdy if 2 is stored in spam, and prints Greetings! if anything else is stored in spam."
   ]
  },
  {
   "cell_type": "code",
   "execution_count": null,
   "id": "c3b57a5c",
   "metadata": {},
   "outputs": [],
   "source": [
    "spam = input(\"Please enter a value: \")\n",
    "\n",
    "if spam == 1:\n",
    "    print(\"Hello\")\n",
    "elif spam == 2:\n",
    "    print(\"Howdy\")\n",
    "else:\n",
    "    print(\"Greetings!\")"
   ]
  },
  {
   "cell_type": "markdown",
   "id": "b9272024",
   "metadata": {},
   "source": [
    "### 9.If your programme is stuck in an endless loop, what keys you’ll press?"
   ]
  },
  {
   "cell_type": "markdown",
   "id": "ce15d72a",
   "metadata": {},
   "source": [
    "Ctrl + C"
   ]
  },
  {
   "cell_type": "markdown",
   "id": "ac6ce0fc",
   "metadata": {},
   "source": [
    "### 10. How can you tell the difference between break and continue?"
   ]
  },
  {
   "cell_type": "markdown",
   "id": "63efdbdd",
   "metadata": {},
   "source": [
    "When break statement is used it will terminate the execution of the loop and control will be resumed by the statements written following the loop\n",
    "\n",
    "When continue statement is used it will terminate the current iteration and starts the next one."
   ]
  },
  {
   "cell_type": "markdown",
   "id": "d0e5ee5c",
   "metadata": {},
   "source": [
    "### 11. In a for loop, what is the difference between range(10), range(0, 10), and range(0, 10, 1)?"
   ]
  },
  {
   "cell_type": "markdown",
   "id": "bb6ed073",
   "metadata": {},
   "source": [
    "if we use range(10) then the interation will start from 0 by default and the loop will be executed 10 times i.e 0 to 9 as the loop will always be executed n-1 times.\n",
    "\n",
    "if we use range(0, 10) then we are mentioning the start and the number before which it has to stop.\n",
    "\n",
    "if we use range(0, 10, 1) then we are mentioning the start, the number before which it has to stop and the step by which it should increment the next number"
   ]
  },
  {
   "cell_type": "markdown",
   "id": "28a17039",
   "metadata": {},
   "source": [
    "### 12. Write a short program that prints the numbers 1 to 10 using a for loop. Then write an equivalent program that prints the numbers 1 to 10 using a while loop."
   ]
  },
  {
   "cell_type": "code",
   "execution_count": 21,
   "id": "e8660438",
   "metadata": {},
   "outputs": [
    {
     "name": "stdout",
     "output_type": "stream",
     "text": [
      "1\n",
      "2\n",
      "3\n",
      "4\n",
      "5\n",
      "6\n",
      "7\n",
      "8\n",
      "9\n",
      "10\n"
     ]
    }
   ],
   "source": [
    "for i in range(1, 11):\n",
    "    print(i)"
   ]
  },
  {
   "cell_type": "code",
   "execution_count": 25,
   "id": "7cdf8f44",
   "metadata": {},
   "outputs": [
    {
     "name": "stdout",
     "output_type": "stream",
     "text": [
      "1\n",
      "2\n",
      "3\n",
      "4\n",
      "5\n",
      "6\n",
      "7\n",
      "8\n",
      "9\n",
      "10\n"
     ]
    }
   ],
   "source": [
    "i = 0\n",
    "while i < 10:\n",
    "    i += 1\n",
    "    print(i)"
   ]
  },
  {
   "cell_type": "markdown",
   "id": "eea0d0bc",
   "metadata": {},
   "source": [
    "### 13. If you had a function named bacon() inside a module named spam, how would you call it after importing spam?"
   ]
  },
  {
   "cell_type": "markdown",
   "id": "c85f3cbb",
   "metadata": {},
   "source": [
    "spam.module()"
   ]
  }
 ],
 "metadata": {
  "kernelspec": {
   "display_name": "Python 3 (ipykernel)",
   "language": "python",
   "name": "python3"
  },
  "language_info": {
   "codemirror_mode": {
    "name": "ipython",
    "version": 3
   },
   "file_extension": ".py",
   "mimetype": "text/x-python",
   "name": "python",
   "nbconvert_exporter": "python",
   "pygments_lexer": "ipython3",
   "version": "3.9.7"
  }
 },
 "nbformat": 4,
 "nbformat_minor": 5
}
