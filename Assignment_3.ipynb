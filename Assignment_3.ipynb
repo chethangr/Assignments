{
 "cells": [
  {
   "cell_type": "markdown",
   "id": "65c46d59",
   "metadata": {},
   "source": [
    "### 1. Why are functions advantageous to have in your programs?"
   ]
  },
  {
   "cell_type": "markdown",
   "id": "5acf37e6",
   "metadata": {},
   "source": [
    "It helps in code reusability, readability and it can reduce the number of repeatative statements that we write. Using fucntions makes the code organized and makes understanding easier."
   ]
  },
  {
   "cell_type": "markdown",
   "id": "b4d61a7c",
   "metadata": {},
   "source": [
    "### 2. When does the code in a function run: when it's specified or when it's called?"
   ]
  },
  {
   "cell_type": "markdown",
   "id": "7f663004",
   "metadata": {},
   "source": [
    "When the function is called."
   ]
  },
  {
   "cell_type": "markdown",
   "id": "23a7aec6",
   "metadata": {},
   "source": [
    "### 3. What statement creates a function?"
   ]
  },
  {
   "cell_type": "markdown",
   "id": "cf3908c9",
   "metadata": {},
   "source": [
    "def funct_name():\n",
    "    \n",
    "    statements"
   ]
  },
  {
   "cell_type": "markdown",
   "id": "bfce593e",
   "metadata": {},
   "source": [
    "### 4. What is the difference between a function and a function call?"
   ]
  },
  {
   "cell_type": "markdown",
   "id": "217ff46b",
   "metadata": {},
   "source": [
    "Function is a block of code which has set of instructions to perform certain action.And the function will be of no use unless it's invoked.\n",
    "\n",
    "Function call will invoke the fucnction to perform the action"
   ]
  },
  {
   "cell_type": "markdown",
   "id": "c678fcc1",
   "metadata": {},
   "source": [
    "### 5. How many global scopes are there in a Python program? How many local scopes?"
   ]
  },
  {
   "cell_type": "markdown",
   "id": "9d0cf38c",
   "metadata": {},
   "source": [
    "There can be only one global scope and there can be as many as local scopes can be defined."
   ]
  },
  {
   "cell_type": "markdown",
   "id": "b1abeef1",
   "metadata": {},
   "source": [
    "### 6. What happens to variables in a local scope when the function call returns?"
   ]
  },
  {
   "cell_type": "markdown",
   "id": "ecefa755",
   "metadata": {},
   "source": [
    "When the execution of the function returns, the local variables are destroyed"
   ]
  },
  {
   "cell_type": "markdown",
   "id": "18cba097",
   "metadata": {},
   "source": [
    "### 7. What is the concept of a return value? Is it possible to have a return value in an expression?"
   ]
  },
  {
   "cell_type": "markdown",
   "id": "464cce19",
   "metadata": {},
   "source": [
    "A return statement is used to end the execution of the function call and “returns” the result (value of the expression following the return keyword). And the statements after return will not be executed.\n",
    "\n",
    "Yes,it possible to have a return value in an expression"
   ]
  },
  {
   "cell_type": "markdown",
   "id": "b446ce98",
   "metadata": {},
   "source": [
    "### 8. If a function does not have a return statement, what is the return value of a call to that function?"
   ]
  },
  {
   "cell_type": "markdown",
   "id": "077c29c8",
   "metadata": {},
   "source": [
    "It returns None when the functions is called."
   ]
  },
  {
   "cell_type": "markdown",
   "id": "97646a47",
   "metadata": {},
   "source": [
    "### 9. How do you make a function variable refer to the global variable?"
   ]
  },
  {
   "cell_type": "markdown",
   "id": "ee5c6816",
   "metadata": {},
   "source": [
    "By defining the variable with global keyword"
   ]
  },
  {
   "cell_type": "markdown",
   "id": "1314c9c3",
   "metadata": {},
   "source": [
    "### 10. What is the data type of None?"
   ]
  },
  {
   "cell_type": "markdown",
   "id": "6c3a80b7",
   "metadata": {},
   "source": [
    "NoneType"
   ]
  },
  {
   "cell_type": "markdown",
   "id": "c35e3e08",
   "metadata": {},
   "source": [
    "### 11. What does the sentence import areallyourpetsnamederic do?"
   ]
  },
  {
   "cell_type": "markdown",
   "id": "0b07604f",
   "metadata": {},
   "source": [
    "It will import all the functions/modules from the mentioned package and then the imported blocks can be used to perform the desired action."
   ]
  },
  {
   "cell_type": "markdown",
   "id": "8a148b05",
   "metadata": {},
   "source": [
    "### 12. If you had a bacon() feature in a spam module, what would you call it after importing spam?"
   ]
  },
  {
   "cell_type": "markdown",
   "id": "fccb4465",
   "metadata": {},
   "source": [
    "spam.bacon()"
   ]
  },
  {
   "cell_type": "markdown",
   "id": "fa0e062f",
   "metadata": {},
   "source": [
    "### 13. What can you do to save a programme from crashing if it encounters an error?"
   ]
  },
  {
   "cell_type": "markdown",
   "id": "39879af2",
   "metadata": {},
   "source": [
    "We can use exception handling to avoid the programme from crashing and make use of logging to understand when & what went wrong"
   ]
  },
  {
   "cell_type": "markdown",
   "id": "c8b0cfe7",
   "metadata": {},
   "source": [
    "### 14. What is the purpose of the try clause? What is the purpose of the except clause?"
   ]
  },
  {
   "cell_type": "markdown",
   "id": "a5fffe61",
   "metadata": {},
   "source": [
    "The try block allows us to test the code for any errors and the except block enables us to handle the error with a user-defined response"
   ]
  }
 ],
 "metadata": {
  "kernelspec": {
   "display_name": "Python 3 (ipykernel)",
   "language": "python",
   "name": "python3"
  },
  "language_info": {
   "codemirror_mode": {
    "name": "ipython",
    "version": 3
   },
   "file_extension": ".py",
   "mimetype": "text/x-python",
   "name": "python",
   "nbconvert_exporter": "python",
   "pygments_lexer": "ipython3",
   "version": "3.9.7"
  }
 },
 "nbformat": 4,
 "nbformat_minor": 5
}
