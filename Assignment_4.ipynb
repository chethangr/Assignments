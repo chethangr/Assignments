{
 "cells": [
  {
   "cell_type": "markdown",
   "id": "5bca6d32",
   "metadata": {},
   "source": [
    "### 1. What exactly is []?"
   ]
  },
  {
   "cell_type": "markdown",
   "id": "bb462ce2",
   "metadata": {},
   "source": [
    "It represents an empty list."
   ]
  },
  {
   "cell_type": "markdown",
   "id": "556c7c0c",
   "metadata": {},
   "source": [
    "### 2. In a list of values stored in a variable called spam, how would you assign the value 'hello' as the third value? (Assume [2, 4, 6, 8, 10] are in spam.)"
   ]
  },
  {
   "cell_type": "code",
   "execution_count": 18,
   "id": "741127d7",
   "metadata": {},
   "outputs": [],
   "source": [
    "spam = [2, 4, 6, 8, 10] \n",
    "spam.insert(2, \"hello\")\n",
    "\n",
    "or \n",
    "\n",
    "spam[2] = \"hello\""
   ]
  },
  {
   "cell_type": "markdown",
   "id": "ade4c3e2",
   "metadata": {},
   "source": [
    "### Let's pretend the spam includes the list ['a', 'b', 'c', 'd'] for the next three queries.\n",
    "3. What is the value of spam[int(int('3' * 2) / 11)]?"
   ]
  },
  {
   "cell_type": "code",
   "execution_count": 23,
   "id": "dfe981a9",
   "metadata": {},
   "outputs": [],
   "source": [
    "spam = ['a', 'b', 'c', 'd']"
   ]
  },
  {
   "cell_type": "code",
   "execution_count": 24,
   "id": "0031daf9",
   "metadata": {},
   "outputs": [
    {
     "data": {
      "text/plain": [
       "'d'"
      ]
     },
     "execution_count": 24,
     "metadata": {},
     "output_type": "execute_result"
    }
   ],
   "source": [
    "spam[int(int('3' * 2)/11)]\n",
    "# ('3' * 2) will result 33 due to string multiplication/replication and then it will be converted into an integer. \n",
    "#Then it will be divided by 11 and result a floating point will be converted into an integer"
   ]
  },
  {
   "cell_type": "markdown",
   "id": "a1fe0f8c",
   "metadata": {},
   "source": [
    "### 4. What is the value of spam[-1]?"
   ]
  },
  {
   "cell_type": "code",
   "execution_count": 25,
   "id": "b9c9a6c6",
   "metadata": {},
   "outputs": [
    {
     "data": {
      "text/plain": [
       "'d'"
      ]
     },
     "execution_count": 25,
     "metadata": {},
     "output_type": "execute_result"
    }
   ],
   "source": [
    "spam[-1]\n",
    "# It will display the last item in the list"
   ]
  },
  {
   "cell_type": "markdown",
   "id": "96c6f5c9",
   "metadata": {},
   "source": [
    "### 5. What is the value of spam[:2]?"
   ]
  },
  {
   "cell_type": "code",
   "execution_count": 26,
   "id": "31091ca9",
   "metadata": {},
   "outputs": [
    {
     "data": {
      "text/plain": [
       "['a', 'b']"
      ]
     },
     "execution_count": 26,
     "metadata": {},
     "output_type": "execute_result"
    }
   ],
   "source": [
    "spam[:2]\n",
    "# It will display the first 2 items in the list"
   ]
  },
  {
   "cell_type": "markdown",
   "id": "cf290853",
   "metadata": {},
   "source": [
    "### Let's pretend bacon has the list [3.14, 'cat,' 11, 'cat,' True] for the next three questions.\n",
    "6. What is the value of bacon.index('cat')?"
   ]
  },
  {
   "cell_type": "code",
   "execution_count": 3,
   "id": "19ab2a14",
   "metadata": {},
   "outputs": [],
   "source": [
    "bacon = [3.14, 'cat', 11, 'cat', True] "
   ]
  },
  {
   "cell_type": "code",
   "execution_count": 30,
   "id": "67403a67",
   "metadata": {},
   "outputs": [
    {
     "data": {
      "text/plain": [
       "1"
      ]
     },
     "execution_count": 30,
     "metadata": {},
     "output_type": "execute_result"
    }
   ],
   "source": [
    "bacon.index('cat')\n",
    "# It will display the index of first occurance of the word cat"
   ]
  },
  {
   "cell_type": "markdown",
   "id": "9d0924ae",
   "metadata": {},
   "source": [
    "### 7. How does bacon.append(99) change the look of the list value in bacon?"
   ]
  },
  {
   "cell_type": "code",
   "execution_count": 31,
   "id": "afcd8c1c",
   "metadata": {},
   "outputs": [],
   "source": [
    " bacon.append(99)"
   ]
  },
  {
   "cell_type": "code",
   "execution_count": 32,
   "id": "bcd61994",
   "metadata": {},
   "outputs": [
    {
     "data": {
      "text/plain": [
       "[3.14, 'cat', 11, 'cat', True, 99]"
      ]
     },
     "execution_count": 32,
     "metadata": {},
     "output_type": "execute_result"
    }
   ],
   "source": [
    "bacon"
   ]
  },
  {
   "cell_type": "markdown",
   "id": "2c79d139",
   "metadata": {},
   "source": [
    "### 8. How does bacon.remove('cat') change the look of the list in bacon?"
   ]
  },
  {
   "cell_type": "code",
   "execution_count": 5,
   "id": "bb9728dc",
   "metadata": {},
   "outputs": [],
   "source": [
    "bacon.remove('cat')\n",
    "# Cat which is found at first occurance will be removed from the list"
   ]
  },
  {
   "cell_type": "code",
   "execution_count": 6,
   "id": "ddefb68c",
   "metadata": {
    "scrolled": true
   },
   "outputs": [
    {
     "data": {
      "text/plain": [
       "[3.14, 11, 'cat', True]"
      ]
     },
     "execution_count": 6,
     "metadata": {},
     "output_type": "execute_result"
    }
   ],
   "source": [
    "bacon"
   ]
  },
  {
   "cell_type": "markdown",
   "id": "627d4acc",
   "metadata": {},
   "source": [
    "### 9. What are the list concatenation and list replication operators?"
   ]
  },
  {
   "cell_type": "markdown",
   "id": "33af5e66",
   "metadata": {},
   "source": [
    "Operator for list concatenation is + and the operator for replication is *"
   ]
  },
  {
   "cell_type": "markdown",
   "id": "da2ce6d3",
   "metadata": {},
   "source": [
    "### 10. What is difference between the list methods append() and insert()?"
   ]
  },
  {
   "cell_type": "markdown",
   "id": "f3dcb86c",
   "metadata": {},
   "source": [
    "append() will always add the item at the end of the list\n",
    "\n",
    "insert() will add the item at the mentioned index"
   ]
  },
  {
   "cell_type": "markdown",
   "id": "5ce06167",
   "metadata": {},
   "source": [
    "### 11. What are the two methods for removing items from a list?"
   ]
  },
  {
   "cell_type": "markdown",
   "id": "b5eced1d",
   "metadata": {},
   "source": [
    "pop() - It will remove the item from the mentioned index of the list\n",
    "\n",
    "remove() - It will remove the mentioned item from the list"
   ]
  },
  {
   "cell_type": "markdown",
   "id": "09d366a8",
   "metadata": {},
   "source": [
    "### 12. Describe how list values and string values are identical."
   ]
  },
  {
   "cell_type": "markdown",
   "id": "b1e37153",
   "metadata": {},
   "source": [
    "A list and string are a sequential collection of data values, where each value is identified by an index."
   ]
  },
  {
   "cell_type": "markdown",
   "id": "3da21613",
   "metadata": {},
   "source": [
    "### 13. What's the difference between tuples and lists?"
   ]
  },
  {
   "cell_type": "markdown",
   "id": "d05efe7f",
   "metadata": {},
   "source": [
    "Lists are mutable but Tuples are immutable\n",
    "\n",
    "Operations like insertion and deletion are better performed in lists | Elements can be accessed better in tuples\n",
    "\n",
    "Many built-in methods are available | Does not have many built-in methods\n"
   ]
  },
  {
   "cell_type": "markdown",
   "id": "421f09c1",
   "metadata": {},
   "source": [
    "### 14. How do you type a tuple value that only contains the integer 42?"
   ]
  },
  {
   "cell_type": "markdown",
   "id": "c7959848",
   "metadata": {},
   "source": [
    " t = (42)"
   ]
  },
  {
   "cell_type": "markdown",
   "id": "f3caf245",
   "metadata": {},
   "source": [
    "### 15. How do you get a list value's tuple form? How do you get a tuple value's list form?"
   ]
  },
  {
   "cell_type": "markdown",
   "id": "eb98988b",
   "metadata": {},
   "source": [
    "By using tuple() we can convert a list into a tuple for eg: tuple([2,3,4,5])\n",
    "    \n",
    "By using list() we can get the tuple values into a list list[(2,3,4,5)]"
   ]
  },
  {
   "cell_type": "markdown",
   "id": "eebba69f",
   "metadata": {},
   "source": [
    "### 16. Variables that \"contain\" list values are not necessarily lists themselves. Instead, what do they contain?"
   ]
  },
  {
   "cell_type": "code",
   "execution_count": null,
   "id": "770c9bb4",
   "metadata": {},
   "outputs": [],
   "source": []
  },
  {
   "cell_type": "markdown",
   "id": "04540b12",
   "metadata": {},
   "source": [
    "### 17. How do you distinguish between copy.copy() and copy.deepcopy()?"
   ]
  },
  {
   "cell_type": "markdown",
   "id": "3d318aed",
   "metadata": {},
   "source": [
    "Copy constructs a new compound object and then inserts references into it to the objects found in the original.\n",
    "\n",
    "A deep copy constructs a new compound object and then, recursively, inserts copies into it of the objects found in the original."
   ]
  }
 ],
 "metadata": {
  "kernelspec": {
   "display_name": "Python 3 (ipykernel)",
   "language": "python",
   "name": "python3"
  },
  "language_info": {
   "codemirror_mode": {
    "name": "ipython",
    "version": 3
   },
   "file_extension": ".py",
   "mimetype": "text/x-python",
   "name": "python",
   "nbconvert_exporter": "python",
   "pygments_lexer": "ipython3",
   "version": "3.9.7"
  }
 },
 "nbformat": 4,
 "nbformat_minor": 5
}
