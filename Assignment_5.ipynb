{
 "cells": [
  {
   "cell_type": "markdown",
   "id": "f517382e",
   "metadata": {},
   "source": [
    "1. What does an empty dictionary's code look like?"
   ]
  },
  {
   "cell_type": "markdown",
   "id": "ef74dd3b",
   "metadata": {},
   "source": [
    "{}"
   ]
  },
  {
   "cell_type": "markdown",
   "id": "d6666fe4",
   "metadata": {},
   "source": [
    "2. What is the value of a dictionary value with the key 'foo' and the value 42?"
   ]
  },
  {
   "cell_type": "markdown",
   "id": "37d2bc6c",
   "metadata": {},
   "source": [
    "d = {\"foo\" : 42}"
   ]
  },
  {
   "cell_type": "markdown",
   "id": "c543f64c",
   "metadata": {},
   "source": [
    "3. What is the most significant distinction between a dictionary and a list?"
   ]
  },
  {
   "cell_type": "markdown",
   "id": "23200ee4",
   "metadata": {},
   "source": [
    "The dictionary elements can't be accessed by the index but instead using the key and the items will not be stored in an order.\n",
    "\n",
    "The list elements can be accessed by using the index value and the items will be stored in an order."
   ]
  },
  {
   "cell_type": "markdown",
   "id": "778f044f",
   "metadata": {},
   "source": [
    "4. What happens if you try to access spam['foo'] if spam is {'bar': 100}?"
   ]
  },
  {
   "cell_type": "markdown",
   "id": "473ab141",
   "metadata": {},
   "source": [
    "It will throw a key error as the key foo doesn't exist in the dictionary"
   ]
  },
  {
   "cell_type": "markdown",
   "id": "19e14070",
   "metadata": {},
   "source": [
    "5. If a dictionary is stored in spam, what is the difference between the expressions 'cat' in spam and 'cat' in spam.keys()?"
   ]
  },
  {
   "cell_type": "markdown",
   "id": "bbb3135a",
   "metadata": {},
   "source": [
    "There is no difference as the \"in\" operator checks whether a value exists as a key in the dictionary."
   ]
  },
  {
   "cell_type": "markdown",
   "id": "9ab55dc7",
   "metadata": {},
   "source": [
    "6. If a dictionary is stored in spam, what is the difference between the expressions 'cat' in spam and 'cat' in spam.values()?"
   ]
  },
  {
   "cell_type": "markdown",
   "id": "3f5a8908",
   "metadata": {},
   "source": [
    "'cat' in spam checks whether there is a 'cat' key in the dictionary, while 'cat' in spam.values() checks whether there is a value 'cat' for one of the keys in spam."
   ]
  },
  {
   "cell_type": "code",
   "execution_count": null,
   "id": "6a6acc93",
   "metadata": {},
   "outputs": [],
   "source": [
    "7. What is a shortcut for the following code?\n",
    "\n",
    "if 'color' not in spam:\n",
    "spam['color'] = 'black'"
   ]
  },
  {
   "cell_type": "code",
   "execution_count": 12,
   "id": "89e79fa1",
   "metadata": {},
   "outputs": [],
   "source": [
    "spam.setdefault('color', 'black')"
   ]
  },
  {
   "cell_type": "markdown",
   "id": "995ba1e5",
   "metadata": {},
   "source": [
    "8. How do you \"pretty print\" dictionary values using which module and function?"
   ]
  },
  {
   "cell_type": "code",
   "execution_count": null,
   "id": "ac5c0952",
   "metadata": {},
   "outputs": [],
   "source": [
    "By using pprint module and using the function pprint()\n",
    "\n",
    "import pprint\n",
    "\n",
    "li = [1,1,21,1,2,3,4,5,6,7,8,9]\n",
    "pprint.pprint(li)"
   ]
  }
 ],
 "metadata": {
  "kernelspec": {
   "display_name": "Python 3 (ipykernel)",
   "language": "python",
   "name": "python3"
  },
  "language_info": {
   "codemirror_mode": {
    "name": "ipython",
    "version": 3
   },
   "file_extension": ".py",
   "mimetype": "text/x-python",
   "name": "python",
   "nbconvert_exporter": "python",
   "pygments_lexer": "ipython3",
   "version": "3.9.7"
  }
 },
 "nbformat": 4,
 "nbformat_minor": 5
}
