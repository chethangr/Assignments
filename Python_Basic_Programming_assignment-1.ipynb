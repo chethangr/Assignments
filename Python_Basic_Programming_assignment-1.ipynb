{
 "cells": [
  {
   "cell_type": "markdown",
   "id": "5f16196f",
   "metadata": {},
   "source": [
    "1.\tWrite a Python program to print \"Hello Python\"?"
   ]
  },
  {
   "cell_type": "code",
   "execution_count": null,
   "id": "903e3968",
   "metadata": {},
   "outputs": [],
   "source": [
    "print(\"Hello Python\")"
   ]
  },
  {
   "cell_type": "markdown",
   "id": "7fcfbbf7",
   "metadata": {},
   "source": [
    "2.\tWrite a Python program to do arithmetical operations addition and division.?"
   ]
  },
  {
   "cell_type": "code",
   "execution_count": null,
   "id": "bc87ca53",
   "metadata": {},
   "outputs": [],
   "source": [
    "a = float(input(\"Please mention a number: \"))\n",
    "b = float(input(\"Please mention the next number: \"))\n",
    "\n",
    "add = float(a+b)\n",
    "div = float(a/b)\n",
    "\n",
    "print(\"The sum of two numbers is: \", add)\n",
    "print(\"The value of division of operation is: \", div)"
   ]
  },
  {
   "cell_type": "markdown",
   "id": "6d60286b",
   "metadata": {},
   "source": [
    "3.\tWrite a Python program to find the area of a triangle?"
   ]
  },
  {
   "cell_type": "code",
   "execution_count": null,
   "id": "922aa035",
   "metadata": {},
   "outputs": [],
   "source": [
    "h = float(input(\"Please enter the height of the triangle: \"))\n",
    "b = float(input(\"Please enter the base of the triangle: \"))\n",
    "\n",
    "a = float(0.5*b*h)\n",
    "\n",
    "print(\"The area of the triangle is: \", a)"
   ]
  },
  {
   "cell_type": "markdown",
   "id": "ce6ef9cc",
   "metadata": {},
   "source": [
    "4.\tWrite a Python program to swap two variables?"
   ]
  },
  {
   "cell_type": "code",
   "execution_count": null,
   "id": "2e01a568",
   "metadata": {},
   "outputs": [],
   "source": [
    "a = int(input(\"Enter the first number: \"))\n",
    "b = int(input(\"Enter the second number: \"))\n",
    "temp\n",
    "\n",
    "print(\"The first number before swapping: \", a)\n",
    "print(\"The second number after swapping: \", b)\n",
    "\n",
    "temp = a\n",
    "a = b\n",
    "b = temp\n",
    "\n",
    "print(\"The first number after swapping: \", a)\n",
    "print(\"The second number after swapping: \", b)"
   ]
  },
  {
   "cell_type": "markdown",
   "id": "d030486a",
   "metadata": {},
   "source": [
    "5.\tWrite a Python program to generate a random number?"
   ]
  },
  {
   "cell_type": "code",
   "execution_count": null,
   "id": "191e570b",
   "metadata": {},
   "outputs": [],
   "source": [
    "import random\n",
    "\n",
    "a = random.randint(0,100)\n",
    "print (\"The generated random number is: \", a)"
   ]
  }
 ],
 "metadata": {
  "kernelspec": {
   "display_name": "Python 3 (ipykernel)",
   "language": "python",
   "name": "python3"
  },
  "language_info": {
   "codemirror_mode": {
    "name": "ipython",
    "version": 3
   },
   "file_extension": ".py",
   "mimetype": "text/x-python",
   "name": "python",
   "nbconvert_exporter": "python",
   "pygments_lexer": "ipython3",
   "version": "3.9.7"
  }
 },
 "nbformat": 4,
 "nbformat_minor": 5
}
