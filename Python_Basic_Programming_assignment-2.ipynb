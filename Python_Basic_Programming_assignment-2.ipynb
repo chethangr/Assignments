{
 "cells": [
  {
   "cell_type": "markdown",
   "id": "b37a0a79",
   "metadata": {},
   "source": [
    "1.\tWrite a Python program to convert kilometers to miles?"
   ]
  },
  {
   "cell_type": "code",
   "execution_count": null,
   "id": "506eeb40",
   "metadata": {},
   "outputs": [],
   "source": [
    "convertion = 0.62\n",
    "kms = float(input(\"Enter the distance: \"))\n",
    "\n",
    "kms *= convertion\n",
    "print(\"The distance in miles: \", kms)"
   ]
  },
  {
   "cell_type": "markdown",
   "id": "8a7f25f7",
   "metadata": {},
   "source": [
    "2.\tWrite a Python program to convert Celsius to Fahrenheit?"
   ]
  },
  {
   "cell_type": "code",
   "execution_count": null,
   "id": "347219db",
   "metadata": {},
   "outputs": [],
   "source": [
    "temp = float(input(\"Enter the temp in  celsius: \"))\n",
    "temp = (temp * (9/5))+32\n",
    "print(\"The temperature is \"  +str(temp)+ \" F\")"
   ]
  },
  {
   "cell_type": "markdown",
   "id": "57cee477",
   "metadata": {},
   "source": [
    "3.\tWrite a Python program to display calendar?"
   ]
  },
  {
   "cell_type": "code",
   "execution_count": null,
   "id": "defced8b",
   "metadata": {},
   "outputs": [],
   "source": [
    "import calendar\n",
    "\n",
    "# To take month and year input from the user\n",
    "yy = int(input(\"Enter year: \"))\n",
    "mm = int(input(\"Enter month: \"))\n",
    "\n",
    "# display the calendar\n",
    "print(calendar.month(yy, mm))\n"
   ]
  },
  {
   "cell_type": "markdown",
   "id": "cda6b92c",
   "metadata": {},
   "source": [
    "4.\tWrite a Python program to solve quadratic equation?"
   ]
  },
  {
   "cell_type": "code",
   "execution_count": null,
   "id": "96f80829",
   "metadata": {},
   "outputs": [],
   "source": [
    "import cmath\n",
    "\n",
    "a = 3\n",
    "b = 10\n",
    "c = 7\n",
    "\n",
    "# formula to solve the quadratic equation (-b ± (b ** 2 - 4 * a * c) ** 0.5) / (2 * a)\n",
    "\n",
    "d = (b ** 2 - 4 * a * c)\n",
    "\n",
    "    \n",
    "solution_1 = (-b+cmath.sqrt(d)) / (2*a)\n",
    "solution_2 = (-b-cmath.sqrt(d)) / (2*a)\n",
    "\n",
    "print(solution_1)\n",
    "print(solution_2)\n"
   ]
  },
  {
   "cell_type": "markdown",
   "id": "00384009",
   "metadata": {},
   "source": [
    "5.\tWrite a Python program to swap two variables without temp variable?"
   ]
  },
  {
   "cell_type": "code",
   "execution_count": null,
   "id": "beea51e7",
   "metadata": {},
   "outputs": [],
   "source": [
    "a = int(input(\"Enter a number: \"))\n",
    "b = int(input(\"Enter the next number: \"))\n",
    "\n",
    "print(\"First number before swapping: \", a)\n",
    "print(\"Second number before swapping: \", b)\n",
    "\n",
    "a += b\n",
    "b = a-b\n",
    "a -= b\n",
    "\n",
    "print(\"First number after swapping: \", a)\n",
    "print(\"Second number after swapping: \", b)"
   ]
  }
 ],
 "metadata": {
  "kernelspec": {
   "display_name": "Python 3 (ipykernel)",
   "language": "python",
   "name": "python3"
  },
  "language_info": {
   "codemirror_mode": {
    "name": "ipython",
    "version": 3
   },
   "file_extension": ".py",
   "mimetype": "text/x-python",
   "name": "python",
   "nbconvert_exporter": "python",
   "pygments_lexer": "ipython3",
   "version": "3.9.7"
  }
 },
 "nbformat": 4,
 "nbformat_minor": 5
}
