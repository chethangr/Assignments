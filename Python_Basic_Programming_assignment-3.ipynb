{
 "cells": [
  {
   "cell_type": "markdown",
   "id": "daf6d142",
   "metadata": {},
   "source": [
    "1.\tWrite a Python Program to Check if a Number is Positive, Negative or Zero?"
   ]
  },
  {
   "cell_type": "code",
   "execution_count": null,
   "id": "8a1591ae",
   "metadata": {},
   "outputs": [],
   "source": [
    "try:\n",
    "    n = int(input(\"Enter a number: \"))\n",
    "\n",
    "    if n < 0:\n",
    "        print(\"The numer is a negative number\")\n",
    "    elif n == 0:\n",
    "        print(\"The numer is a zero\")\n",
    "    else:\n",
    "        print(\"The numer is a positive number\")\n",
    "        \n",
    "except Exception as e:\n",
    "    print(\"Please enter a number and the exception is: \", e)"
   ]
  },
  {
   "cell_type": "markdown",
   "id": "63d931b7",
   "metadata": {},
   "source": [
    "2.\tWrite a Python Program to Check if a Number is Odd or Even?"
   ]
  },
  {
   "cell_type": "code",
   "execution_count": null,
   "id": "f9449ae9",
   "metadata": {},
   "outputs": [],
   "source": [
    "n = int(input(\"Enter a number: \"))\n",
    "\n",
    "if n % 2 == 0:\n",
    "    print(f\"The {n} is a even number\")\n",
    "else: \n",
    "     print(f\"The {n} is a odd number\")"
   ]
  },
  {
   "cell_type": "markdown",
   "id": "30fdea85",
   "metadata": {},
   "source": [
    "3.\tWrite a Python Program to Check Leap Year?"
   ]
  },
  {
   "cell_type": "code",
   "execution_count": null,
   "id": "a5be8d7e",
   "metadata": {},
   "outputs": [],
   "source": [
    "year = int (input (\"Please enter the year: \"))\n",
    "\n",
    "if year % 4 == 0:\n",
    "    if year % 100 == 0:\n",
    "        if year % 400 == 0:\n",
    "            print(\"it's leap year\")\n",
    "        else:\n",
    "            print(\"it's not a leap year\") \n",
    "    else:\n",
    "            print(\"it's a leap year\") \n",
    "else:\n",
    "            print(\"it's not a leap year\") \n",
    "\n"
   ]
  },
  {
   "cell_type": "markdown",
   "id": "f22f6e45",
   "metadata": {},
   "source": [
    "4.\tWrite a Python Program to Check Prime Number?"
   ]
  },
  {
   "cell_type": "code",
   "execution_count": null,
   "id": "edf3465b",
   "metadata": {},
   "outputs": [],
   "source": [
    "num = int(input(\"Enter a number: \"))\n",
    "\n",
    "is_prime = True\n",
    "\n",
    "if num > 1:\n",
    "    for i in range(2, num):\n",
    "        if (num % i) == 0:\n",
    "            is_prime = False\n",
    "            break\n",
    "\n",
    "if is_prime:\n",
    "    print(num, \"is a prime number\")\n",
    "else:\n",
    "    print(num, \"is not a prime number\")"
   ]
  },
  {
   "cell_type": "markdown",
   "id": "e71fe6c8",
   "metadata": {},
   "source": [
    "5.\tWrite a Python Program to Print all Prime Numbers in an Interval of 1-10000?"
   ]
  },
  {
   "cell_type": "code",
   "execution_count": null,
   "id": "a04600a4",
   "metadata": {},
   "outputs": [],
   "source": [
    "for num in range(1, 10001):\n",
    "    if num > 1:\n",
    "        for i in range(2, num):\n",
    "            if (num % i) == 0:\n",
    "                break\n",
    "        else:\n",
    "            print(num)"
   ]
  }
 ],
 "metadata": {
  "kernelspec": {
   "display_name": "Python 3 (ipykernel)",
   "language": "python",
   "name": "python3"
  },
  "language_info": {
   "codemirror_mode": {
    "name": "ipython",
    "version": 3
   },
   "file_extension": ".py",
   "mimetype": "text/x-python",
   "name": "python",
   "nbconvert_exporter": "python",
   "pygments_lexer": "ipython3",
   "version": "3.9.7"
  }
 },
 "nbformat": 4,
 "nbformat_minor": 5
}
