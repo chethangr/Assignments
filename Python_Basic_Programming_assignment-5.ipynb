{
 "cells": [
  {
   "cell_type": "markdown",
   "id": "a9460f4b",
   "metadata": {},
   "source": [
    "1.Write a Python Program to Find LCM?"
   ]
  },
  {
   "cell_type": "code",
   "execution_count": null,
   "id": "cb7c7c6f",
   "metadata": {},
   "outputs": [],
   "source": [
    "def find_lcm(x, y):\n",
    "    if x > y:\n",
    "        bigger = x\n",
    "    else:\n",
    "        bigger = y\n",
    "\n",
    "    while(True):\n",
    "        if((bigger % x == 0) and (bigger % y == 0)):\n",
    "            lcm = bigger\n",
    "            break\n",
    "        bigger += 1\n",
    "\n",
    "    return lcm\n",
    "\n",
    "n1 = int(input(\"Enter the first number: \"))\n",
    "n2 = int(input(\"Enter the second number: \"))\n",
    "\n",
    "print(\"The L.C.M. is\", find_lcm(n1, n2))"
   ]
  },
  {
   "cell_type": "markdown",
   "id": "14af8205",
   "metadata": {},
   "source": [
    "2.Write a Python Program to Find HCF?"
   ]
  },
  {
   "cell_type": "code",
   "execution_count": null,
   "id": "c2800c8d",
   "metadata": {},
   "outputs": [],
   "source": [
    "def find_hcf(x, y):\n",
    "\n",
    "    if x > y:\n",
    "        smaller = y\n",
    "    else:\n",
    "        smaller = x\n",
    "    for i in range(1, smaller+1):\n",
    "        if((x % i == 0) and (y % i == 0)):\n",
    "            hcf = i \n",
    "    return hcf\n",
    "\n",
    "n1 = int(input(\"Enter the first number: \"))\n",
    "n2 = int(input(\"Enter the second number: \"))\n",
    "\n",
    "print(\"The H.C.F. is\", find_hcf(n1, n2))"
   ]
  },
  {
   "cell_type": "markdown",
   "id": "68415716",
   "metadata": {},
   "source": [
    "3.Write a Python Program to Convert Decimal to Binary, Octal and Hexadecimal?"
   ]
  },
  {
   "cell_type": "code",
   "execution_count": null,
   "id": "1a6946ef",
   "metadata": {},
   "outputs": [],
   "source": [
    "dec = int(input(\"Enter a number: \"))\n",
    "\n",
    "print(\"The decimal value of\", dec, \"is:\")\n",
    "print(bin(dec), \"in binary.\")\n",
    "print(oct(dec), \"in octal.\")\n",
    "print(hex(dec), \"in hexadecimal.\")\n"
   ]
  },
  {
   "cell_type": "markdown",
   "id": "ae65059f",
   "metadata": {},
   "source": [
    "4.Write a Python Program To Find ASCII value of a character?"
   ]
  },
  {
   "cell_type": "code",
   "execution_count": null,
   "id": "a1ca59d7",
   "metadata": {},
   "outputs": [],
   "source": [
    "chr = input(\"Enter a character: \")\n",
    "print(f\"The ASCII value of {chr} is {ord(chr)}\")\n"
   ]
  },
  {
   "cell_type": "markdown",
   "id": "744e4e8c",
   "metadata": {},
   "source": [
    "5.Write a Python Program to Make a Simple Calculator with 4 basic mathematical operations?"
   ]
  },
  {
   "cell_type": "code",
   "execution_count": 5,
   "id": "bf893c90",
   "metadata": {},
   "outputs": [],
   "source": [
    "def calc():\n",
    "    n1 = float(input(\"Please enter a num: \"))\n",
    "    n2 = float(input(\"Please enter the next num: \"))\n",
    "    choice = input(\"\"\"Please choose the operation:\n",
    "    + for addition\n",
    "    - for subtraction\n",
    "    * for multiplication\n",
    "    / for division \n",
    "    \"\"\")\n",
    "    \n",
    "    if choice == \"+\":\n",
    "        result = n1 + n2\n",
    "        return result\n",
    "    elif choice == \"-\":\n",
    "        result = n1 - n2\n",
    "        return result\n",
    "    elif choice == \"*\":\n",
    "        result = n1 * n2\n",
    "        return result\n",
    "    elif choice == \"/\":\n",
    "        result = n1 / n2\n",
    "        return result\n",
    "    else:\n",
    "        return \"Please choose a valid operation\"\n",
    "\n",
    "calc()"
   ]
  }
 ],
 "metadata": {
  "kernelspec": {
   "display_name": "Python 3 (ipykernel)",
   "language": "python",
   "name": "python3"
  },
  "language_info": {
   "codemirror_mode": {
    "name": "ipython",
    "version": 3
   },
   "file_extension": ".py",
   "mimetype": "text/x-python",
   "name": "python",
   "nbconvert_exporter": "python",
   "pygments_lexer": "ipython3",
   "version": "3.9.7"
  }
 },
 "nbformat": 4,
 "nbformat_minor": 5
}
