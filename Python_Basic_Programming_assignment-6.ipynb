{
 "cells": [
  {
   "cell_type": "markdown",
   "id": "4e88e98d",
   "metadata": {},
   "source": [
    "1.\tWrite a Python Program to Display Fibonacci Sequence Using Recursion?"
   ]
  },
  {
   "cell_type": "code",
   "execution_count": 13,
   "id": "99b5a57f",
   "metadata": {},
   "outputs": [
    {
     "name": "stdout",
     "output_type": "stream",
     "text": [
      "Enter the number: 10\n",
      "Fibonacci sequence:\n",
      "0\n",
      "1\n",
      "1\n",
      "2\n",
      "3\n",
      "5\n",
      "8\n",
      "13\n",
      "21\n",
      "34\n"
     ]
    }
   ],
   "source": [
    "def recur_fibo(n):\n",
    "    if n <= 1:\n",
    "        return n\n",
    "    else:\n",
    "        return(recur_fibo(n-1) + recur_fibo(n-2))\n",
    "\n",
    "num = int(input(\"Enter the number: \"))\n",
    "\n",
    "if num <= 0:\n",
    "    print(\"Plese enter a positive integer\")\n",
    "else:\n",
    "    print(\"Fibonacci sequence:\")\n",
    "    for i in range(num):\n",
    "        print(recur_fibo(i))\n"
   ]
  },
  {
   "cell_type": "markdown",
   "id": "e6bcc054",
   "metadata": {},
   "source": [
    "2.\tWrite a Python Program to Find Factorial of Number Using Recursion?"
   ]
  },
  {
   "cell_type": "code",
   "execution_count": 11,
   "id": "b2581ce2",
   "metadata": {},
   "outputs": [
    {
     "name": "stdout",
     "output_type": "stream",
     "text": [
      "Enter the number: 4\n",
      "The factorial of 3 is 24 \n"
     ]
    }
   ],
   "source": [
    "def fact(x):\n",
    "    if x == 1:\n",
    "        return 1\n",
    "    else:\n",
    "        return (x * fact(x-1))\n",
    "\n",
    "n = int(input(\"Enter the number: \"))\n",
    "print(f\"The factorial of {num} is {fact(n)} \")"
   ]
  },
  {
   "cell_type": "markdown",
   "id": "d43d9fa7",
   "metadata": {},
   "source": [
    "3.\tWrite a Python Program to calculate your Body Mass Index?"
   ]
  },
  {
   "cell_type": "code",
   "execution_count": 9,
   "id": "75805780",
   "metadata": {},
   "outputs": [
    {
     "name": "stdout",
     "output_type": "stream",
     "text": [
      "please enter the weight in kgs: 72\n",
      "please enter the weight in cms: 170\n",
      "Your bmi is 24.913494809688583 and you have normal weight\n"
     ]
    }
   ],
   "source": [
    "w = float(input(\"please enter the weight in kgs: \"))\n",
    "h = (float(input(\"please enter the weight in cms: \")))/100\n",
    "\n",
    "bmi = w/h**2\n",
    "if bmi < 18.5:\n",
    "    print(f\"Your bmi is {bmi} and you are underweight\")\n",
    "elif bmi >= 18.5 and bmi <= 25:\n",
    "    print(f\"Your bmi is {bmi} and you have normal weight\")\n",
    "elif bmi > 25 and bmi <= 30:\n",
    "    print(f\"Your bmi is {bmi} and you are overweight\")\n",
    "else:\n",
    "    print(f\"Your bmi is {bmi} and you are obese\")\n"
   ]
  },
  {
   "cell_type": "markdown",
   "id": "001b7db5",
   "metadata": {},
   "source": [
    "4.\tWrite a Python Program to calculate the natural logarithm of any number?"
   ]
  },
  {
   "cell_type": "code",
   "execution_count": 14,
   "id": "81422703",
   "metadata": {},
   "outputs": [
    {
     "name": "stdout",
     "output_type": "stream",
     "text": [
      "Enter the number: 5\n",
      "The value is: 1.6094379124341003\n"
     ]
    }
   ],
   "source": [
    "import math\n",
    "\n",
    "number = int(input(\"Enter the number: \"))\n",
    "\n",
    "ans = math.log(number)\n",
    "\n",
    "print(\"The value is:\",ans)\n"
   ]
  },
  {
   "cell_type": "markdown",
   "id": "b2f79c3d",
   "metadata": {},
   "source": [
    "5.\tWrite a Python Program for cube sum of first n natural numbers?"
   ]
  },
  {
   "cell_type": "code",
   "execution_count": 4,
   "id": "f2707a4f",
   "metadata": {},
   "outputs": [
    {
     "name": "stdout",
     "output_type": "stream",
     "text": [
      "Enter a number: 100\n",
      "24502500\n"
     ]
    }
   ],
   "source": [
    "n = int(input(\"Enter a number: \"))\n",
    "sum = 0\n",
    "for i in range (0, n):\n",
    "    sum += i**3\n",
    "\n",
    "print(sum)"
   ]
  }
 ],
 "metadata": {
  "kernelspec": {
   "display_name": "Python 3 (ipykernel)",
   "language": "python",
   "name": "python3"
  },
  "language_info": {
   "codemirror_mode": {
    "name": "ipython",
    "version": 3
   },
   "file_extension": ".py",
   "mimetype": "text/x-python",
   "name": "python",
   "nbconvert_exporter": "python",
   "pygments_lexer": "ipython3",
   "version": "3.9.7"
  }
 },
 "nbformat": 4,
 "nbformat_minor": 5
}
